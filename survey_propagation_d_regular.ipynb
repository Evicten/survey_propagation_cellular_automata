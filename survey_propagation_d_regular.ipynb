{
 "cells": [
  {
   "cell_type": "code",
   "execution_count": 2,
   "metadata": {},
   "outputs": [],
   "source": [
    "import numpy as np\n",
    "from tqdm import tqdm"
   ]
  },
  {
   "cell_type": "code",
   "execution_count": 11,
   "metadata": {},
   "outputs": [],
   "source": [
    "def initialize_survey():\n",
    "    \"\"\"\n",
    "    Initialize a survey message.\n",
    "    \"\"\"\n",
    "    N_possible_warnings = 16\n",
    "    survey_values = np.zeros((16,1))\n",
    "    survey_values[2] = 0.25\n",
    "    survey_values[4] = 0.25\n",
    "    survey_values[8] = 0.25\n",
    "    # for i in range(2, 16):\n",
    "    #     survey_values[i] = np.random.uniform(0,1)\n",
    "    survey_values = survey_values/np.sum(survey_values)\n",
    "    warning_keys = ['----', '---+', '--+-', '--++', '-+--', '-+-+', '-++-', '-+++', '+---', '+--+', '+-+-', '+-++', '++--', '++-+', '+++-', '++++'] # 16 possible warnings, first two are first row\n",
    "    survey = dict(zip(warning_keys, survey_values))\n",
    "    return survey, warning_keys, survey_values"
   ]
  },
  {
   "cell_type": "code",
   "execution_count": 4,
   "metadata": {},
   "outputs": [],
   "source": [
    "def generate_all_possible_warnings():\n",
    "    \"\"\"\n",
    "    Generate all possible warnings.\n",
    "    \"\"\"\n",
    "    warnings = []\n",
    "    for i in range(2):\n",
    "        for j in range(2):\n",
    "            for k in range(2):\n",
    "                for l in range(2):\n",
    "                    warnings.append(np.array([[i, j], [k, l]]))\n",
    "    return np.array(warnings)\n",
    "\n",
    "def get_warning_index(warning):\n",
    "    \"\"\"\n",
    "    Get the index of a warning in the list of all possible warnings.\n",
    "    \"\"\"\n",
    "    warnings = generate_all_possible_warnings()\n",
    "    for i in range(len(warnings)):\n",
    "        if np.array_equal(warning, warnings[i]):\n",
    "            return i\n",
    "    return -1"
   ]
  },
  {
   "cell_type": "code",
   "execution_count": 5,
   "metadata": {},
   "outputs": [],
   "source": [
    "def gen_configurations(d):\n",
    "    \"\"\"\n",
    "    returns all possible configurations of d-1 neighbours\n",
    "    \"\"\"\n",
    "    return np.array(np.meshgrid(*[[0, 1]] * (d-1))).T.reshape(-1, d-1)\n",
    "\n",
    "def respect_rule(rule, i, j, rest_config):\n",
    "        outer_density=j+np.sum(rest_config)\n",
    "        if rule[outer_density]=='0':\n",
    "            return True if i==0 else False\n",
    "        elif rule[outer_density]=='1':\n",
    "            return True if i==1 else False\n",
    "        elif rule[outer_density]=='+':\n",
    "            return True\n",
    "        elif rule[outer_density]=='-':\n",
    "            return False\n",
    "        \n",
    "def neighbouring_warnings_allow(sigma_i, configuration, neighbouring_warnings):\n",
    "    \"\"\"\n",
    "    returns True if the neighbouring warnings allow the configuration, False otherwise\n",
    "    \"\"\"\n",
    "    \n",
    "    for k, warning in enumerate(neighbouring_warnings):\n",
    "        sigma_k = configuration[k]\n",
    "        if warning[sigma_k, sigma_i] == 0:\n",
    "            return False\n",
    "\n",
    "    return True\n",
    "\n",
    "\n",
    "def warning_config_is_fixed_point(warning_index, config, rule):\n",
    "    \"\"\"\n",
    "    Check if a warning configuration is a fixed point of a rule.\n",
    "    \"\"\"\n",
    "    warning_list = generate_all_possible_warnings()\n",
    "    warning = warning_list[warning_index]\n",
    "    new_warning = np.zeros((2, 2))\n",
    "    for sigma_i in range(2):\n",
    "        for sigma_j in range(2):\n",
    "            configurations = gen_configurations(len(config)+1)\n",
    "            for configuration in configurations:\n",
    "                if respect_rule(rule, sigma_i, sigma_j, configuration) and neighbouring_warnings_allow(sigma_i, configuration, config):\n",
    "                    new_warning[sigma_i, sigma_j] = 1\n",
    "                    break\n",
    "    \n",
    "    if np.array_equal(new_warning, warning):\n",
    "        return True\n",
    "    else:\n",
    "        return False\n",
    "    \n",
    "def fixed_point_update(config, rule):\n",
    "    \"\"\"\n",
    "    Check if a warning configuration is a fixed point of a rule.\n",
    "    \"\"\"\n",
    "    new_warning = np.zeros((2, 2))\n",
    "    for sigma_i in range(2):\n",
    "        for sigma_j in range(2):\n",
    "            configurations = gen_configurations(len(config)+1)\n",
    "            for configuration in configurations:\n",
    "                if respect_rule(rule, sigma_i, sigma_j, configuration) and neighbouring_warnings_allow(sigma_i, configuration, config):\n",
    "                    new_warning[sigma_i, sigma_j] = 1\n",
    "                    break\n",
    "    \n",
    "    return new_warning\n"
   ]
  },
  {
   "cell_type": "code",
   "execution_count": 6,
   "metadata": {},
   "outputs": [],
   "source": [
    "def generate_combinations(matrix_set, d):\n",
    "    def generate_combinations_recursive(matrix_set, d, current_combination):\n",
    "        if d == 0:\n",
    "            return [current_combination.copy()]\n",
    "        \n",
    "        combinations = []\n",
    "        for i in range(len(matrix_set)):\n",
    "            current_combination.append(matrix_set[i])\n",
    "            combinations += generate_combinations_recursive(matrix_set, d - 1, current_combination)\n",
    "            current_combination.pop()\n",
    "\n",
    "        return combinations\n",
    "\n",
    "    return generate_combinations_recursive(matrix_set, d, [])"
   ]
  },
  {
   "cell_type": "code",
   "execution_count": 16,
   "metadata": {},
   "outputs": [],
   "source": [
    "def survey_propagation_eff(rule, initial_surveys, num_iters=500, dampening=0.8, tol=1e-7):\n",
    "    survey_values = initial_surveys.copy()\n",
    "    d = len(rule)-1\n",
    "    warning_list = generate_all_possible_warnings()\n",
    "    warning_configs = generate_combinations(warning_list, d-1)\n",
    "    for _ in tqdm(range(num_iters)):\n",
    "        survey_values_old = survey_values.copy()\n",
    "        update_sum = np.zeros((16,1))\n",
    "        for config in warning_configs:\n",
    "            new_warning = fixed_point_update(config, rule)\n",
    "            if np.array_equal(new_warning, np.zeros((2,2))):\n",
    "                continue\n",
    "            for warning_idx in range(16):\n",
    "                if np.array_equal(new_warning, warning_list[warning_idx]):\n",
    "                    update_prod = 1\n",
    "                    for k in range(d-1):\n",
    "                        update_prod *= survey_values[get_warning_index(config[k])]\n",
    "                    update_sum[warning_idx] += update_prod\n",
    "        survey_values = update_sum/np.sum(update_sum)\n",
    "        survey_values = (1-dampening)*survey_values + dampening*survey_values_old\n",
    "\n",
    "        if np.linalg.norm(survey_values - survey_values_old) < tol:\n",
    "            break\n",
    "    return survey_values"
   ]
  },
  {
   "cell_type": "code",
   "execution_count": 19,
   "metadata": {},
   "outputs": [],
   "source": [
    "def warning_config_is_fixed_point_complexity(config, rule):\n",
    "    d = len(config)\n",
    "    configurations = gen_configurations(d+1)\n",
    "    for sigma_i in range(2):\n",
    "        for configuration in configurations:\n",
    "            if respect_rule(rule, sigma_i, configuration[0], configuration[1:]) and neighbouring_warnings_allow(sigma_i, configuration, config):\n",
    "                return True\n",
    "    return False\n",
    "\n",
    "\n",
    "def edge_complexity_condition(warning1, warning2):\n",
    "    configurations = gen_configurations(3)\n",
    "    for configuration in configurations:\n",
    "        if warning1[configuration[0], configuration[1]] == 1 and warning2[configuration[1], configuration[0]] == 1:\n",
    "            return True\n",
    "    return False\n",
    "    \n",
    "\n",
    "def complexity(survey_values, rule):\n",
    "    \"\"\"\n",
    "    Calculate the complexity of a survey fixed point.\n",
    "    \"\"\"\n",
    "    d = len(rule)-1\n",
    "    warning_list = generate_all_possible_warnings()\n",
    "    warning_configs_node_complexity = generate_combinations(warning_list, d)\n",
    "    zi = 0\n",
    "    for config in warning_configs_node_complexity:\n",
    "        if warning_config_is_fixed_point_complexity(config, rule):\n",
    "            update_prod = 1\n",
    "            for k in range(d):\n",
    "                update_prod *= survey_values[get_warning_index(config[k])]\n",
    "            zi += update_prod\n",
    "    \n",
    "    warning_configs_edge_complexity = generate_combinations(warning_list, 2) \n",
    "    zia = 0\n",
    "    for config in warning_configs_edge_complexity:\n",
    "        if edge_complexity_condition(config[0], config[1]):\n",
    "            zia += survey_values[get_warning_index(config[0])] * survey_values[get_warning_index(config[1])]\n",
    "    \n",
    "    complexity = np.log(zi) - d/2 * np.log(zia)\n",
    "    return complexity\n",
    "    "
   ]
  },
  {
   "cell_type": "code",
   "execution_count": 22,
   "metadata": {},
   "outputs": [
    {
     "name": "stderr",
     "output_type": "stream",
     "text": [
      " 21%|██▏       | 107/500 [00:04<00:15, 25.59it/s]\n"
     ]
    }
   ],
   "source": [
    "rule = ['-', '+', '1', '0']\n",
    "survey, warning_keys, initial_surveys = initialize_survey()\n",
    "surveys = survey_propagation_eff(rule, initial_surveys, num_iters=500)"
   ]
  },
  {
   "cell_type": "code",
   "execution_count": 23,
   "metadata": {},
   "outputs": [
    {
     "name": "stdout",
     "output_type": "stream",
     "text": [
      "[[0.        ]\n",
      " [0.06485564]\n",
      " [0.03787276]\n",
      " [0.20336799]\n",
      " [0.18330655]\n",
      " [0.00324768]\n",
      " [0.05121265]\n",
      " [0.11134004]\n",
      " [0.3447967 ]\n",
      " [0.        ]\n",
      " [0.        ]\n",
      " [0.        ]\n",
      " [0.        ]\n",
      " [0.        ]\n",
      " [0.        ]\n",
      " [0.        ]]\n"
     ]
    }
   ],
   "source": [
    "print(surveys)"
   ]
  },
  {
   "cell_type": "code",
   "execution_count": 24,
   "metadata": {},
   "outputs": [
    {
     "name": "stdout",
     "output_type": "stream",
     "text": [
      "[0.17324178]\n"
     ]
    }
   ],
   "source": [
    "print(complexity(surveys, rule))"
   ]
  }
 ],
 "metadata": {
  "kernelspec": {
   "display_name": "Python 3",
   "language": "python",
   "name": "python3"
  },
  "language_info": {
   "codemirror_mode": {
    "name": "ipython",
    "version": 3
   },
   "file_extension": ".py",
   "mimetype": "text/x-python",
   "name": "python",
   "nbconvert_exporter": "python",
   "pygments_lexer": "ipython3",
   "version": "3.11.4"
  }
 },
 "nbformat": 4,
 "nbformat_minor": 2
}
