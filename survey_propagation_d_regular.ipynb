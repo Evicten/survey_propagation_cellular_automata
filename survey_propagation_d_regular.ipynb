{
 "cells": [
  {
   "cell_type": "code",
   "execution_count": 1,
   "metadata": {},
   "outputs": [],
   "source": [
    "import numpy as np\n",
    "from tqdm import tqdm"
   ]
  },
  {
   "cell_type": "code",
   "execution_count": 2,
   "metadata": {},
   "outputs": [],
   "source": [
    "def initialize_survey(method='frozen_random'):\n",
    "    \"\"\"\n",
    "    Initialize a survey message.\n",
    "    warning_keys = ['----', \n",
    "                    '---+', \n",
    "                    '--+-', \n",
    "                    '--++', \n",
    "                    '-+--', \n",
    "                    '-+-+', \n",
    "                    '-++-', \n",
    "                    '-+++', \n",
    "                    '+---', \n",
    "                    '+--+', \n",
    "                    '+-+-', \n",
    "                    '+-++', \n",
    "                    '++--', \n",
    "                    '++-+', \n",
    "                    '+++-', \n",
    "                    '++++'] # 16 possible warnings corresponding to the survey_values array indices\n",
    "\n",
    "    methods accepted:\n",
    "    - \"random\": all random \n",
    "    - \"random_smart\": all random, except first warning which is set to 0\n",
    "    - \"random_smarter\": all random, except first and last warnings which are set to 0\n",
    "    - \"frozen_random\": only warnings with one + are nonzero - random values \n",
    "    - \"frozen_equal\": only warnings with one + are nonzero - same values \n",
    "    - \"frozen_random_dontcare\": same as frozen_random, but with a bit of noise on dont care warning\n",
    "    - \"frozen_equal_dontcare\": same as frozen_equal, but with a bit of noise on dont care warning\n",
    "    \"\"\"\n",
    "    survey_values = np.zeros((16,1))\n",
    "    if method == 'random':\n",
    "        for i in range(16):\n",
    "            survey_values[i] = np.random.uniform(0,1)\n",
    "    elif method == 'random_smart':\n",
    "        for i in range(1, 16):\n",
    "            survey_values[i] = np.random.uniform(0,1)\n",
    "    elif method == 'random_smarter':\n",
    "        for i in range(1, 15):\n",
    "            survey_values[i] = np.random.uniform(0,1)\n",
    "    elif method == 'frozen_random':\n",
    "        survey_values[1] = np.random.uniform(0,1)\n",
    "        survey_values[2] = np.random.uniform(0,1)\n",
    "        survey_values[4] = np.random.uniform(0,1)\n",
    "        survey_values[8] = np.random.uniform(0,1)\n",
    "    elif method == 'frozen_equal':\n",
    "        survey_values[1] = 0.25\n",
    "        survey_values[2] = 0.25\n",
    "        survey_values[4] = 0.25\n",
    "        survey_values[8] = 0.25\n",
    "    elif method == 'frozen_random_dontcare':\n",
    "        survey_values[1] = np.random.uniform(0,1)\n",
    "        survey_values[2] = np.random.uniform(0,1)\n",
    "        survey_values[4] = np.random.uniform(0,1)\n",
    "        survey_values[8] = np.random.uniform(0,1)\n",
    "        survey_values[0] = 0.05\n",
    "    elif method == 'frozen_equal_dontcare':\n",
    "        survey_values[1] = 0.25\n",
    "        survey_values[2] = 0.25\n",
    "        survey_values[4] = 0.25\n",
    "        survey_values[8] = 0.25\n",
    "        survey_values[0] = 0.05\n",
    "    else:\n",
    "        raise ValueError('Invalid method')\n",
    "    \n",
    "    survey_values = survey_values/np.sum(survey_values)\n",
    "    return survey_values"
   ]
  },
  {
   "cell_type": "code",
   "execution_count": 3,
   "metadata": {},
   "outputs": [],
   "source": [
    "def generate_all_possible_warnings():\n",
    "    \"\"\"\n",
    "    Generate all possible warnings.\n",
    "    \"\"\"\n",
    "    warnings = []\n",
    "    for i in range(2):\n",
    "        for j in range(2):\n",
    "            for k in range(2):\n",
    "                for l in range(2):\n",
    "                    warnings.append(np.array([[i, j], [k, l]]))\n",
    "    return np.array(warnings)\n",
    "\n",
    "def get_warning_index(warning):\n",
    "    \"\"\"\n",
    "    Get the index of a warning in the list of all possible warnings.\n",
    "    \"\"\"\n",
    "    warnings = generate_all_possible_warnings()\n",
    "    for i in range(len(warnings)):\n",
    "        if np.array_equal(warning, warnings[i]):\n",
    "            return i\n",
    "    return -1"
   ]
  },
  {
   "cell_type": "code",
   "execution_count": 4,
   "metadata": {},
   "outputs": [],
   "source": [
    "def gen_configurations(d):\n",
    "    \"\"\"\n",
    "    returns all possible configurations of d-1 neighbours\n",
    "    \"\"\"\n",
    "    return np.array(np.meshgrid(*[[0, 1]] * (d-1))).T.reshape(-1, d-1)\n",
    "\n",
    "def respect_rule(rule, i, j, rest_config):\n",
    "        outer_density=j+np.sum(rest_config)\n",
    "        if rule[outer_density]=='0':\n",
    "            return True if i==0 else False\n",
    "        elif rule[outer_density]=='1':\n",
    "            return True if i==1 else False\n",
    "        elif rule[outer_density]=='+':\n",
    "            return True\n",
    "        elif rule[outer_density]=='-':\n",
    "            return False\n",
    "        \n",
    "def neighbouring_warnings_allow(sigma_i, configuration, neighbouring_warnings):\n",
    "    \"\"\"\n",
    "    returns True if the neighbouring warnings allow the configuration, False otherwise\n",
    "    \"\"\"\n",
    "    \n",
    "    for k, warning in enumerate(neighbouring_warnings):\n",
    "        sigma_k = configuration[k]\n",
    "        if warning[sigma_k, sigma_i] == 0:\n",
    "            return False\n",
    "\n",
    "    return True\n",
    "\n",
    "\n",
    "def warning_config_is_fixed_point(warning_index, config, rule):\n",
    "    \"\"\"\n",
    "    Check if a warning configuration is a fixed point of a rule.\n",
    "    \"\"\"\n",
    "    warning_list = generate_all_possible_warnings()\n",
    "    warning = warning_list[warning_index]\n",
    "    new_warning = np.zeros((2, 2))\n",
    "    for sigma_i in range(2):\n",
    "        for sigma_j in range(2):\n",
    "            configurations = gen_configurations(len(config)+1)\n",
    "            for configuration in configurations:\n",
    "                if respect_rule(rule, sigma_i, sigma_j, configuration) and neighbouring_warnings_allow(sigma_i, configuration, config):\n",
    "                    new_warning[sigma_i, sigma_j] = 1\n",
    "                    break\n",
    "    \n",
    "    if np.array_equal(new_warning, warning):\n",
    "        return True\n",
    "    else:\n",
    "        return False\n",
    "    \n",
    "def fixed_point_update(config, rule):\n",
    "    \"\"\"\n",
    "    Check if a warning configuration is a fixed point of a rule.\n",
    "    \"\"\"\n",
    "    new_warning = np.zeros((2, 2))\n",
    "    for sigma_i in range(2):\n",
    "        for sigma_j in range(2):\n",
    "            configurations = gen_configurations(len(config)+1)\n",
    "            for configuration in configurations:\n",
    "                if respect_rule(rule, sigma_i, sigma_j, configuration) and neighbouring_warnings_allow(sigma_i, configuration, config):\n",
    "                    new_warning[sigma_i, sigma_j] = 1\n",
    "                    break\n",
    "    \n",
    "    return new_warning\n"
   ]
  },
  {
   "cell_type": "code",
   "execution_count": 5,
   "metadata": {},
   "outputs": [],
   "source": [
    "def generate_combinations(matrix_set, d):\n",
    "    def generate_combinations_recursive(matrix_set, d, current_combination):\n",
    "        if d == 0:\n",
    "            return [current_combination.copy()]\n",
    "        \n",
    "        combinations = []\n",
    "        for i in range(len(matrix_set)):\n",
    "            current_combination.append(matrix_set[i])\n",
    "            combinations += generate_combinations_recursive(matrix_set, d - 1, current_combination)\n",
    "            current_combination.pop()\n",
    "\n",
    "        return combinations\n",
    "\n",
    "    return generate_combinations_recursive(matrix_set, d, [])"
   ]
  },
  {
   "cell_type": "code",
   "execution_count": 6,
   "metadata": {},
   "outputs": [],
   "source": [
    "def survey_propagation_eff(rule, initial_surveys, num_iters=500, dampening=0.8, tol=1e-7):\n",
    "    survey_values = initial_surveys.copy()\n",
    "    d = len(rule)-1\n",
    "    warning_list = generate_all_possible_warnings()\n",
    "    warning_configs = generate_combinations(warning_list, d-1)\n",
    "    for _ in tqdm(range(num_iters)):\n",
    "        survey_values_old = survey_values.copy()\n",
    "        update_sum = np.zeros((16,1))\n",
    "        for config in warning_configs:\n",
    "            new_warning = fixed_point_update(config, rule)\n",
    "            if np.array_equal(new_warning, np.zeros((2,2))):\n",
    "                continue\n",
    "            for warning_idx in range(16):\n",
    "                if np.array_equal(new_warning, warning_list[warning_idx]):\n",
    "                    update_prod = 1\n",
    "                    for k in range(d-1):\n",
    "                        update_prod *= survey_values[get_warning_index(config[k])]\n",
    "                    update_sum[warning_idx] += update_prod\n",
    "        survey_values = update_sum/np.sum(update_sum)\n",
    "        survey_values = (1-dampening)*survey_values + dampening*survey_values_old\n",
    "\n",
    "        if np.linalg.norm(survey_values - survey_values_old) < tol:\n",
    "            break\n",
    "    return survey_values"
   ]
  },
  {
   "cell_type": "code",
   "execution_count": 7,
   "metadata": {},
   "outputs": [],
   "source": [
    "def warning_config_is_fixed_point_complexity(config, rule):\n",
    "    d = len(config)\n",
    "    configurations = gen_configurations(d+1)\n",
    "    for sigma_i in range(2):\n",
    "        for configuration in configurations:\n",
    "            if respect_rule(rule, sigma_i, configuration[0], configuration[1:]) and neighbouring_warnings_allow(sigma_i, configuration, config):\n",
    "                return True\n",
    "    return False\n",
    "\n",
    "\n",
    "def edge_complexity_condition(warning1, warning2):\n",
    "    configurations = gen_configurations(3)\n",
    "    for configuration in configurations:\n",
    "        if warning1[configuration[0], configuration[1]] == 1 and warning2[configuration[1], configuration[0]] == 1:\n",
    "            return True\n",
    "    return False\n",
    "    \n",
    "\n",
    "def complexity(survey_values, rule):\n",
    "    \"\"\"\n",
    "    Calculate the complexity of a survey fixed point.\n",
    "    \"\"\"\n",
    "    d = len(rule)-1\n",
    "    warning_list = generate_all_possible_warnings()\n",
    "    warning_configs_node_complexity = generate_combinations(warning_list, d)\n",
    "    zi = 0\n",
    "    for config in warning_configs_node_complexity:\n",
    "        if warning_config_is_fixed_point_complexity(config, rule):\n",
    "            update_prod = 1\n",
    "            for k in range(d):\n",
    "                update_prod *= survey_values[get_warning_index(config[k])]\n",
    "            zi += update_prod\n",
    "    \n",
    "    warning_configs_edge_complexity = generate_combinations(warning_list, 2) \n",
    "    zia = 0\n",
    "    for config in warning_configs_edge_complexity:\n",
    "        if edge_complexity_condition(config[0], config[1]):\n",
    "            zia += survey_values[get_warning_index(config[0])] * survey_values[get_warning_index(config[1])]\n",
    "    \n",
    "    complexity = np.log(zi) - d/2 * np.log(zia)\n",
    "    return complexity\n",
    "    "
   ]
  },
  {
   "cell_type": "code",
   "execution_count": 8,
   "metadata": {},
   "outputs": [],
   "source": [
    "rules = [\n",
    "    ['1', '+', '-', '0'],\n",
    "    ['-', '0', '+', '0'],\n",
    "    ['-', '0', '+', '-'],\n",
    "    ['0', '0', '+', '0'],\n",
    "    ['0', '0', '+', '-'],\n",
    "    ['0', '0', '1', '0'],\n",
    "    ['0', '0', '1', '-'],\n",
    "    ['0', '1', '0', '0'],\n",
    "    ['0', '1', '0', '+'],\n",
    "    ['+', '-', '0', '0'],\n",
    "    ['+', '-', '0', '+'],\n",
    "    ['+', '-', '+', '0'],\n",
    "    ['+', '1', '0', '-']\n",
    "]"
   ]
  },
  {
   "cell_type": "code",
   "execution_count": 9,
   "metadata": {},
   "outputs": [
    {
     "name": "stderr",
     "output_type": "stream",
     "text": [
      " 12%|█▏        | 62/500 [00:02<00:16, 26.29it/s]\n"
     ]
    },
    {
     "name": "stdout",
     "output_type": "stream",
     "text": [
      "Rule:  ['1', '+', '-', '0']\n",
      "Complexity:  [0.10381968]\n"
     ]
    },
    {
     "name": "stderr",
     "output_type": "stream",
     "text": [
      " 16%|█▋        | 82/500 [00:03<00:16, 25.88it/s]\n"
     ]
    },
    {
     "name": "stdout",
     "output_type": "stream",
     "text": [
      "Rule:  ['-', '0', '+', '0']\n",
      "Complexity:  [0.10158631]\n"
     ]
    },
    {
     "name": "stderr",
     "output_type": "stream",
     "text": [
      " 22%|██▏       | 108/500 [00:04<00:14, 26.17it/s]\n"
     ]
    },
    {
     "name": "stdout",
     "output_type": "stream",
     "text": [
      "Rule:  ['-', '0', '+', '-']\n",
      "Complexity:  [0.05229014]\n"
     ]
    },
    {
     "name": "stderr",
     "output_type": "stream",
     "text": [
      " 16%|█▌        | 81/500 [00:03<00:16, 25.76it/s]\n"
     ]
    },
    {
     "name": "stdout",
     "output_type": "stream",
     "text": [
      "Rule:  ['0', '0', '+', '0']\n",
      "Complexity:  [0.20457578]\n"
     ]
    },
    {
     "name": "stderr",
     "output_type": "stream",
     "text": [
      " 22%|██▏       | 111/500 [00:04<00:15, 25.88it/s]\n"
     ]
    },
    {
     "name": "stdout",
     "output_type": "stream",
     "text": [
      "Rule:  ['0', '0', '+', '-']\n",
      "Complexity:  [0.19246562]\n"
     ]
    },
    {
     "name": "stderr",
     "output_type": "stream",
     "text": [
      " 34%|███▍      | 172/500 [00:06<00:12, 25.94it/s]\n"
     ]
    },
    {
     "name": "stdout",
     "output_type": "stream",
     "text": [
      "Rule:  ['0', '0', '1', '0']\n",
      "Complexity:  [0.12036029]\n"
     ]
    },
    {
     "name": "stderr",
     "output_type": "stream",
     "text": [
      " 43%|████▎     | 215/500 [00:08<00:10, 26.66it/s]\n"
     ]
    },
    {
     "name": "stdout",
     "output_type": "stream",
     "text": [
      "Rule:  ['0', '0', '1', '-']\n",
      "Complexity:  [0.11603336]\n"
     ]
    },
    {
     "name": "stderr",
     "output_type": "stream",
     "text": [
      " 32%|███▏      | 161/500 [00:06<00:13, 25.93it/s]\n"
     ]
    },
    {
     "name": "stdout",
     "output_type": "stream",
     "text": [
      "Rule:  ['0', '1', '0', '0']\n",
      "Complexity:  [0.03449029]\n"
     ]
    },
    {
     "name": "stderr",
     "output_type": "stream",
     "text": [
      " 29%|██▉       | 146/500 [00:05<00:13, 25.36it/s]\n"
     ]
    },
    {
     "name": "stdout",
     "output_type": "stream",
     "text": [
      "Rule:  ['0', '1', '0', '+']\n",
      "Complexity:  [0.12521852]\n"
     ]
    },
    {
     "name": "stderr",
     "output_type": "stream",
     "text": [
      " 81%|████████  | 403/500 [00:14<00:03, 27.76it/s]\n"
     ]
    },
    {
     "name": "stdout",
     "output_type": "stream",
     "text": [
      "Rule:  ['+', '-', '0', '0']\n",
      "Complexity:  [0.01358022]\n"
     ]
    },
    {
     "name": "stderr",
     "output_type": "stream",
     "text": [
      " 81%|████████  | 403/500 [00:15<00:03, 26.50it/s]\n"
     ]
    },
    {
     "name": "stdout",
     "output_type": "stream",
     "text": [
      "Rule:  ['+', '-', '0', '+']\n",
      "Complexity:  [0.01358022]\n"
     ]
    },
    {
     "name": "stderr",
     "output_type": "stream",
     "text": [
      " 28%|██▊       | 138/500 [00:05<00:14, 25.27it/s]\n"
     ]
    },
    {
     "name": "stdout",
     "output_type": "stream",
     "text": [
      "Rule:  ['+', '-', '+', '0']\n",
      "Complexity:  [0.11255087]\n"
     ]
    },
    {
     "name": "stderr",
     "output_type": "stream",
     "text": [
      " 12%|█▏        | 62/500 [00:02<00:16, 26.03it/s]\n"
     ]
    },
    {
     "name": "stdout",
     "output_type": "stream",
     "text": [
      "Rule:  ['+', '1', '0', '-']\n",
      "Complexity:  [0.10381968]\n"
     ]
    }
   ],
   "source": [
    "for rule in rules:\n",
    "    survey_values = initialize_survey(method='frozen_equal_dontcare')\n",
    "    surveys = survey_propagation_eff(rule, survey_values, num_iters=500, dampening=0.8, tol=1e-7)\n",
    "    print('Rule: ', rule)\n",
    "    print('Complexity: ', complexity(surveys, rule))"
   ]
  },
  {
   "cell_type": "code",
   "execution_count": 10,
   "metadata": {},
   "outputs": [
    {
     "name": "stderr",
     "output_type": "stream",
     "text": [
      " 12%|█▏        | 62/500 [00:02<00:16, 25.87it/s]\n"
     ]
    },
    {
     "name": "stdout",
     "output_type": "stream",
     "text": [
      "[[3.73637008e-08]\n",
      " [1.86818504e-07]\n",
      " [1.66666823e-01]\n",
      " [1.66666442e-01]\n",
      " [3.33333259e-01]\n",
      " [0.00000000e+00]\n",
      " [0.00000000e+00]\n",
      " [0.00000000e+00]\n",
      " [3.33333252e-01]\n",
      " [0.00000000e+00]\n",
      " [0.00000000e+00]\n",
      " [0.00000000e+00]\n",
      " [0.00000000e+00]\n",
      " [0.00000000e+00]\n",
      " [0.00000000e+00]\n",
      " [0.00000000e+00]]\n",
      "[0.10381968]\n"
     ]
    }
   ],
   "source": [
    "rule = ['1', '+', '-', '0']\n",
    "initial_surveys = initialize_survey(method='frozen_equal_dontcare')\n",
    "surveys = survey_propagation_eff(rule, initial_surveys, num_iters=500)\n",
    "print(surveys)\n",
    "print(complexity(surveys, rule))"
   ]
  },
  {
   "cell_type": "code",
   "execution_count": 34,
   "metadata": {},
   "outputs": [
    {
     "name": "stdout",
     "output_type": "stream",
     "text": [
      "[0.10381968]\n"
     ]
    }
   ],
   "source": []
  },
  {
   "cell_type": "code",
   "execution_count": null,
   "metadata": {},
   "outputs": [],
   "source": []
  }
 ],
 "metadata": {
  "kernelspec": {
   "display_name": "Python 3",
   "language": "python",
   "name": "python3"
  },
  "language_info": {
   "codemirror_mode": {
    "name": "ipython",
    "version": 3
   },
   "file_extension": ".py",
   "mimetype": "text/x-python",
   "name": "python",
   "nbconvert_exporter": "python",
   "pygments_lexer": "ipython3",
   "version": "3.11.4"
  }
 },
 "nbformat": 4,
 "nbformat_minor": 2
}
